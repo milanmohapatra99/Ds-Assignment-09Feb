{
 "cells": [
  {
   "cell_type": "markdown",
   "id": "f7b2d9ef-82e0-43ca-91ae-d3ba9167fce6",
   "metadata": {},
   "source": [
    "Ques:1. Create a vehicle class with an init method having instance variables as name_of_vehicle, max_speed and average_of_vehicle."
   ]
  },
  {
   "cell_type": "code",
   "execution_count": 1,
   "id": "e9800ef6-f78f-45a2-bb69-7cf7f63691e2",
   "metadata": {},
   "outputs": [],
   "source": [
    "#Creating Class\n",
    "class vehicle:\n",
    "    def __init__(self, name_of_vehicle, max_speed, average_of_vehicle):\n",
    "        self.name_of_vehicle = name_of_vehicle\n",
    "        self.max_speed = max_speed\n",
    "        self.average_of_vehicle = average_of_vehicle"
   ]
  },
  {
   "cell_type": "markdown",
   "id": "2034f544-3b23-429d-9a26-60ecb6c463bb",
   "metadata": {},
   "source": [
    "Ques:2. Create a child class car from the vehicle class created in Que 1, which will inherit the vehicle class. Create a method named seating_capacity which takes capacity as an argument and returns the name of the vehicle and its seating capacity."
   ]
  },
  {
   "cell_type": "code",
   "execution_count": 2,
   "id": "e8f4845b-4a59-4808-8a33-a2d66f3f05ad",
   "metadata": {},
   "outputs": [],
   "source": [
    "class car(vehicle):\n",
    "    def seating_capacity(self, capacity):\n",
    "        self.capacity = capacity\n",
    "        return self.name_of_vehicle, self.capacity"
   ]
  },
  {
   "cell_type": "code",
   "execution_count": 4,
   "id": "9f1c145d-4edc-4765-b8ee-7d814dff5913",
   "metadata": {},
   "outputs": [
    {
     "data": {
      "text/plain": [
       "('Audi Q7', 7)"
      ]
     },
     "execution_count": 4,
     "metadata": {},
     "output_type": "execute_result"
    }
   ],
   "source": [
    "c = car(\"Audi Q7\", 250, 12)\n",
    "c.seating_capacity(7)"
   ]
  },
  {
   "cell_type": "markdown",
   "id": "7585253c-c9ee-4f35-a410-d4c7f1220190",
   "metadata": {},
   "source": [
    "Que3. What is multiple inheritance? Write a python code to demonstrate multiple inheritance."
   ]
  },
  {
   "cell_type": "markdown",
   "id": "642ce7c3-5609-432f-b788-2e9b52ee1daa",
   "metadata": {},
   "source": [
    "Ans:-\n",
    "Multiple inheritance is a feature of object-oriented programming (OOP) languages where a class can inherit properties and methods from more than one parent class. In other words, a class can inherit from multiple classes, thus inheriting the attributes and behaviors of all its parent classes.ultilevel inheritance, we have one parent class and child class that is derived or inherited from that parent class. We have a grand-child class that is derived from the child class."
   ]
  },
  {
   "cell_type": "code",
   "execution_count": 5,
   "id": "40aaeb9e-721e-442d-979d-b9d0d4275e78",
   "metadata": {},
   "outputs": [
    {
     "name": "stdout",
     "output_type": "stream",
     "text": [
      "In class Parent1\n",
      "In class Parent2\n"
     ]
    }
   ],
   "source": [
    "class Parent1:\n",
    "    def display1(self):\n",
    "        print(\"In class Parent1\")\n",
    "\n",
    "class Parent2:\n",
    "    def display2(self):\n",
    "        print(\"In class Parent2\")\n",
    "\n",
    "class Child(Parent1, Parent2):\n",
    "    pass\n",
    "\n",
    "obj = Child()\n",
    "obj.display1()\n",
    "obj.display2()"
   ]
  },
  {
   "cell_type": "markdown",
   "id": "dc029eb4-6bdc-416a-b0de-712415067a26",
   "metadata": {},
   "source": [
    "Que4. What are getter and setter in python? Create a class and create a getter and a setter method in this class."
   ]
  },
  {
   "cell_type": "markdown",
   "id": "ced987db-b0e7-4528-a4fe-853ea6366f37",
   "metadata": {},
   "source": [
    "Ans:-\n",
    "In object-oriented programming, getters and setters are methods used to retrieve and update the values of object properties, respectively. The use of getters and setters is a common technique for encapsulating object data and ensuring that it can be accessed and modified in a controlled and predictable manner.\n",
    "Getter: A method that allows you to access an attribute in a given class\n",
    "Setter: A method that allows you to set or mutate the value of an attribute in a class"
   ]
  },
  {
   "cell_type": "code",
   "execution_count": 7,
   "id": "98eef2c4-261c-41ca-83d0-cd56e08dcfe8",
   "metadata": {},
   "outputs": [
    {
     "name": "stdout",
     "output_type": "stream",
     "text": [
      "German Shepherd\n",
      "Golden Retriever\n"
     ]
    }
   ],
   "source": [
    "class Pet:\n",
    "    def __init__(self, name):\n",
    "        self._name = name\n",
    "\n",
    "    def get_name(self):\n",
    "        return self._name\n",
    "\n",
    "    def set_name(self, name):\n",
    "        self._name = name\n",
    "\n",
    "pet = Pet(\"German Shepherd\")\n",
    "print(pet.get_name()) \n",
    "pet.set_name(\"Golden Retriever\")\n",
    "print(pet.get_name()) "
   ]
  },
  {
   "cell_type": "markdown",
   "id": "408f9ed2-6f7a-4029-8fca-61be5ca27281",
   "metadata": {},
   "source": [
    "Ques:5.What is method overriding in python? Write a python code to demonstrate method overriding."
   ]
  },
  {
   "cell_type": "markdown",
   "id": "fe85e270-fc09-4451-a064-9be13b059011",
   "metadata": {},
   "source": [
    "Ans:- Method overriding is an ability of any object-oriented programming language that allows a subclass or child class to provide a specific implementation of a method that is already provided by one of its super-classes or parent classes. When a method in a subclass has the same name, same parameters or signature and same return type(or sub-type) as a method in its super-class, then the method in the subclass is said to override the method in the super-class."
   ]
  },
  {
   "cell_type": "code",
   "execution_count": 8,
   "id": "04021b15-d794-48e4-a38a-e564614bf6b8",
   "metadata": {},
   "outputs": [
    {
     "name": "stdout",
     "output_type": "stream",
     "text": [
      "I have 4 sides. I am from Square class\n",
      "I am a 2D object. I am from shape class\n",
      "I have teal color. I am from Square class.\n",
      "Old value of data1 =  abc\n",
      "The value of data1 in Shape class overridden by the Square class =  New value\n"
     ]
    }
   ],
   "source": [
    "#Method Overriding Example\n",
    "# Parent class\n",
    "class Shape:\n",
    "    data1 = \"abc\"\n",
    "\n",
    "    # function no_of_sides\n",
    "    def no_of_sides(self):\n",
    "        print(\"My sides need to be defined. I am from shape class.\")\n",
    "\n",
    "    # function two_dimensional\n",
    "    def two_dimensional(self):\n",
    "        print(\"I am a 2D object. I am from shape class\")\n",
    "\n",
    "#Sub-class\n",
    "class Square(Shape):\n",
    "    data2 = \"xyz\"\n",
    "\n",
    "    def no_of_sides(self):\n",
    "        print(\"I have 4 sides. I am from Square class\")\n",
    "\n",
    "    def color(self):\n",
    "        print(\"I have teal color. I am from Square class.\")\n",
    "\n",
    "\n",
    "# Create an object of Square class\n",
    "sq = Square()\n",
    "# Override the no_of_sides of parent class\n",
    "sq.no_of_sides()\n",
    "# Will inherit this method from the parent class\n",
    "sq.two_dimensional()\n",
    "# It's own method - color\n",
    "sq.color()\n",
    "print(\"Old value of data1 = \", sq.data1)\n",
    "# Override property of the Parent class\n",
    "sq.data1 = \"New value\"\n",
    "print(\"The value of data1 in Shape class overridden by the Square class = \", sq.data1)\n"
   ]
  },
  {
   "cell_type": "code",
   "execution_count": null,
   "id": "7f5c37fc-42ed-42be-ab08-b669625976b7",
   "metadata": {},
   "outputs": [],
   "source": []
  }
 ],
 "metadata": {
  "kernelspec": {
   "display_name": "Python 3 (ipykernel)",
   "language": "python",
   "name": "python3"
  },
  "language_info": {
   "codemirror_mode": {
    "name": "ipython",
    "version": 3
   },
   "file_extension": ".py",
   "mimetype": "text/x-python",
   "name": "python",
   "nbconvert_exporter": "python",
   "pygments_lexer": "ipython3",
   "version": "3.10.6"
  }
 },
 "nbformat": 4,
 "nbformat_minor": 5
}
